{
 "cells": [
  {
   "cell_type": "code",
   "execution_count": 1,
   "id": "b3aba74b",
   "metadata": {},
   "outputs": [],
   "source": [
    "import numpy as np \n",
    "import pandas as pd\n",
    "from sklearn.metrics.pairwise import cosine_similarity\n",
    "import heapq"
   ]
  },
  {
   "cell_type": "code",
   "execution_count": 2,
   "id": "93a9968a",
   "metadata": {},
   "outputs": [],
   "source": [
    "# 'essentials' implies essential facial skincare products\n",
    "df = pd.read_csv('result.csv')"
   ]
  },
  {
   "cell_type": "code",
   "execution_count": 3,
   "id": "cb55ed32",
   "metadata": {},
   "outputs": [
    {
     "data": {
      "text/html": [
       "<div>\n",
       "<style scoped>\n",
       "    .dataframe tbody tr th:only-of-type {\n",
       "        vertical-align: middle;\n",
       "    }\n",
       "\n",
       "    .dataframe tbody tr th {\n",
       "        vertical-align: top;\n",
       "    }\n",
       "\n",
       "    .dataframe thead th {\n",
       "        text-align: right;\n",
       "    }\n",
       "</style>\n",
       "<table border=\"1\" class=\"dataframe\">\n",
       "  <thead>\n",
       "    <tr style=\"text-align: right;\">\n",
       "      <th></th>\n",
       "      <th>label</th>\n",
       "      <th>url</th>\n",
       "      <th>brand</th>\n",
       "      <th>name</th>\n",
       "      <th>price</th>\n",
       "      <th>skin type</th>\n",
       "      <th>spf</th>\n",
       "      <th>concern</th>\n",
       "      <th>concern 2</th>\n",
       "      <th>concern 3</th>\n",
       "      <th>key ingredient</th>\n",
       "      <th>formulation</th>\n",
       "    </tr>\n",
       "  </thead>\n",
       "  <tbody>\n",
       "    <tr>\n",
       "      <th>0</th>\n",
       "      <td>face-moisturisers</td>\n",
       "      <td>https://www.myntra.com/face-moisturisers/lakme...</td>\n",
       "      <td>Lakme</td>\n",
       "      <td>Absolute Perfect Radiance Skin Lightening Day ...</td>\n",
       "      <td>₹ 79</td>\n",
       "      <td>All</td>\n",
       "      <td>NaN</td>\n",
       "      <td>General Care</td>\n",
       "      <td>NaN</td>\n",
       "      <td>NaN</td>\n",
       "      <td>NaN</td>\n",
       "      <td>Cream</td>\n",
       "    </tr>\n",
       "    <tr>\n",
       "      <th>1</th>\n",
       "      <td>face-moisturisers</td>\n",
       "      <td>https://www.myntra.com/face-moisturisers/bioti...</td>\n",
       "      <td>Biotique</td>\n",
       "      <td>Bio Morning Nectar Flawless Sustainable Skin M...</td>\n",
       "      <td>₹ 165</td>\n",
       "      <td>All</td>\n",
       "      <td>NaN</td>\n",
       "      <td>Uneven Skin Tone</td>\n",
       "      <td>Hydration</td>\n",
       "      <td>Dark Spots</td>\n",
       "      <td>Honey</td>\n",
       "      <td>Lotion</td>\n",
       "    </tr>\n",
       "    <tr>\n",
       "      <th>2</th>\n",
       "      <td>face-moisturisers</td>\n",
       "      <td>https://www.myntra.com/face-moisturisers/nivea...</td>\n",
       "      <td>Nivea</td>\n",
       "      <td>Unisex Aloe Hydration Skin Cream 100 ml</td>\n",
       "      <td>₹ 92</td>\n",
       "      <td>All</td>\n",
       "      <td>NaN</td>\n",
       "      <td>Dull Skin</td>\n",
       "      <td>Dryness</td>\n",
       "      <td>General Care</td>\n",
       "      <td>Aloe Vera</td>\n",
       "      <td>Cream</td>\n",
       "    </tr>\n",
       "    <tr>\n",
       "      <th>3</th>\n",
       "      <td>face-moisturisers</td>\n",
       "      <td>https://www.myntra.com/face-moisturisers/vi-jo...</td>\n",
       "      <td>VI-JOHN</td>\n",
       "      <td>Women Set of 5 Saffron Fairness Cream Advanced</td>\n",
       "      <td>₹ 187</td>\n",
       "      <td>All</td>\n",
       "      <td>15 to 30</td>\n",
       "      <td>Softening and Smoothening</td>\n",
       "      <td>Softening and Smoothening</td>\n",
       "      <td>Sun Protection</td>\n",
       "      <td>Vitamin E</td>\n",
       "      <td>Cream</td>\n",
       "    </tr>\n",
       "    <tr>\n",
       "      <th>4</th>\n",
       "      <td>face-moisturisers</td>\n",
       "      <td>https://www.myntra.com/face-moisturisers/lakme...</td>\n",
       "      <td>Lakme</td>\n",
       "      <td>Peach Milk Soft Creme 150g</td>\n",
       "      <td>₹ 192</td>\n",
       "      <td>All</td>\n",
       "      <td>NaN</td>\n",
       "      <td>General Care</td>\n",
       "      <td>NaN</td>\n",
       "      <td>NaN</td>\n",
       "      <td>NaN</td>\n",
       "      <td>Cream</td>\n",
       "    </tr>\n",
       "  </tbody>\n",
       "</table>\n",
       "</div>"
      ],
      "text/plain": [
       "               label                                                url  \\\n",
       "0  face-moisturisers  https://www.myntra.com/face-moisturisers/lakme...   \n",
       "1  face-moisturisers  https://www.myntra.com/face-moisturisers/bioti...   \n",
       "2  face-moisturisers  https://www.myntra.com/face-moisturisers/nivea...   \n",
       "3  face-moisturisers  https://www.myntra.com/face-moisturisers/vi-jo...   \n",
       "4  face-moisturisers  https://www.myntra.com/face-moisturisers/lakme...   \n",
       "\n",
       "      brand                                               name  price  \\\n",
       "0     Lakme  Absolute Perfect Radiance Skin Lightening Day ...   ₹ 79   \n",
       "1  Biotique  Bio Morning Nectar Flawless Sustainable Skin M...  ₹ 165   \n",
       "2     Nivea            Unisex Aloe Hydration Skin Cream 100 ml   ₹ 92   \n",
       "3   VI-JOHN     Women Set of 5 Saffron Fairness Cream Advanced  ₹ 187   \n",
       "4     Lakme                         Peach Milk Soft Creme 150g  ₹ 192   \n",
       "\n",
       "  skin type       spf                    concern                  concern 2  \\\n",
       "0       All       NaN               General Care                        NaN   \n",
       "1       All       NaN           Uneven Skin Tone                  Hydration   \n",
       "2       All       NaN                  Dull Skin                    Dryness   \n",
       "3       All  15 to 30  Softening and Smoothening  Softening and Smoothening   \n",
       "4       All       NaN               General Care                        NaN   \n",
       "\n",
       "        concern 3 key ingredient formulation  \n",
       "0             NaN            NaN       Cream  \n",
       "1      Dark Spots          Honey      Lotion  \n",
       "2    General Care      Aloe Vera       Cream  \n",
       "3  Sun Protection      Vitamin E       Cream  \n",
       "4             NaN            NaN       Cream  "
      ]
     },
     "execution_count": 3,
     "metadata": {},
     "output_type": "execute_result"
    }
   ],
   "source": [
    "df.head()"
   ]
  },
  {
   "cell_type": "code",
   "execution_count": 4,
   "id": "567b52de",
   "metadata": {},
   "outputs": [
    {
     "data": {
      "text/plain": [
       "label\n",
       "face-moisturisers    300\n",
       "cleanser             300\n",
       "concealer            300\n",
       "mask-and-peel        300\n",
       "foundation           300\n",
       "sunscreen            272\n",
       "eye-cream            100\n",
       "Name: count, dtype: int64"
      ]
     },
     "execution_count": 4,
     "metadata": {},
     "output_type": "execute_result"
    }
   ],
   "source": [
    "df['label'].value_counts()"
   ]
  },
  {
   "cell_type": "code",
   "execution_count": 5,
   "id": "c7121549",
   "metadata": {},
   "outputs": [
    {
     "data": {
      "text/plain": [
       "label                0\n",
       "url                  0\n",
       "brand               46\n",
       "name                46\n",
       "price               46\n",
       "skin type          309\n",
       "spf               1452\n",
       "concern            380\n",
       "concern 2         1136\n",
       "concern 3         1319\n",
       "key ingredient    1159\n",
       "formulation        384\n",
       "dtype: int64"
      ]
     },
     "execution_count": 5,
     "metadata": {},
     "output_type": "execute_result"
    }
   ],
   "source": [
    "df.isna().sum()"
   ]
  },
  {
   "cell_type": "code",
   "execution_count": 6,
   "id": "a5f6933b",
   "metadata": {},
   "outputs": [],
   "source": [
    "df['concern 2'].fillna('', inplace = True)\n",
    "df['concern 3'].fillna('', inplace = True)\n",
    "df['concern'] = df['concern'] + ',' + df['concern 2'] + ',' + df['concern 3']"
   ]
  },
  {
   "cell_type": "code",
   "execution_count": 7,
   "id": "31c5dc10",
   "metadata": {},
   "outputs": [
    {
     "data": {
      "text/plain": [
       "0                                          General Care,,\n",
       "1                   Uneven Skin Tone,Hydration,Dark Spots\n",
       "2                          Dull Skin,Dryness,General Care\n",
       "3       Softening and Smoothening,Softening and Smooth...\n",
       "4                                          General Care,,\n",
       "                              ...                        \n",
       "1867                                       Dark Circles,,\n",
       "1868                Fine Lines and Wrinkles,Dark Circles,\n",
       "1869                   Dark Circles,Dark Circles,Eye Bags\n",
       "1870                                                  NaN\n",
       "1871                        Dark Circles,Eye Bags,Dryness\n",
       "Name: concern, Length: 1872, dtype: object"
      ]
     },
     "execution_count": 7,
     "metadata": {},
     "output_type": "execute_result"
    }
   ],
   "source": [
    "df['concern']"
   ]
  },
  {
   "cell_type": "code",
   "execution_count": 8,
   "id": "14627f40",
   "metadata": {},
   "outputs": [
    {
     "data": {
      "text/plain": [
       "concern\n",
       "Sun Protection,,                                       202\n",
       "Dark Spots,,                                            81\n",
       "General Care,,                                          68\n",
       "Dark Circles,,                                          51\n",
       "Waterproof,,                                            43\n",
       "                                                      ... \n",
       "Acne or Blemishes,Pigmentation,Anti-Pollution            1\n",
       "Lightening,Dark Spots,                                   1\n",
       "Daily Use,Acne or Blemishes,Fine Lines and Wrinkles      1\n",
       "Anti-Pollution,Acne or Blemishes,Excess Oil              1\n",
       "Lightening,Dryness,                                      1\n",
       "Name: count, Length: 438, dtype: int64"
      ]
     },
     "execution_count": 8,
     "metadata": {},
     "output_type": "execute_result"
    }
   ],
   "source": [
    "df.drop(columns=['concern 2', 'concern 3', 'spf', 'key ingredient', 'formulation'], inplace = True)\n",
    "df['concern'].value_counts()"
   ]
  },
  {
   "cell_type": "code",
   "execution_count": 9,
   "id": "0d1c3445",
   "metadata": {},
   "outputs": [],
   "source": [
    "df2 = df[((df['label'] == 'face-moisturisers') | (df['label'] == 'mask-and-peel') | (df['label'] == 'cleanser') | (df['label'] == 'eye-cream'))]\n",
    "df2\n",
    "LABELS = list(df2.label.unique())"
   ]
  },
  {
   "cell_type": "code",
   "execution_count": 10,
   "id": "a73d736a",
   "metadata": {},
   "outputs": [
    {
     "name": "stdout",
     "output_type": "stream",
     "text": [
      "<class 'pandas.core.frame.DataFrame'>\n",
      "Index: 967 entries, 0 to 966\n",
      "Data columns (total 7 columns):\n",
      " #   Column     Non-Null Count  Dtype \n",
      "---  ------     --------------  ----- \n",
      " 0   label      967 non-null    object\n",
      " 1   url        967 non-null    object\n",
      " 2   brand      967 non-null    object\n",
      " 3   name       967 non-null    object\n",
      " 4   price      967 non-null    object\n",
      " 5   skin type  967 non-null    object\n",
      " 6   concern    939 non-null    object\n",
      "dtypes: object(7)\n",
      "memory usage: 60.4+ KB\n"
     ]
    }
   ],
   "source": [
    "df2 = df2[df2['skin type'].isna() == False]\n",
    "df2.index = [i for i in range(0, len(df2))]\n",
    "df2.info()"
   ]
  },
  {
   "cell_type": "code",
   "execution_count": 11,
   "id": "ebd5ae59",
   "metadata": {},
   "outputs": [
    {
     "data": {
      "text/plain": [
       "label\n",
       "face-moisturisers    10\n",
       "mask-and-peel         9\n",
       "cleanser              5\n",
       "eye-cream             4\n",
       "Name: count, dtype: int64"
      ]
     },
     "execution_count": 11,
     "metadata": {},
     "output_type": "execute_result"
    }
   ],
   "source": [
    "df2[df2['concern'].isna() == True]['label'].value_counts()"
   ]
  },
  {
   "cell_type": "code",
   "execution_count": 12,
   "id": "218debe5",
   "metadata": {},
   "outputs": [
    {
     "data": {
      "text/plain": [
       "concern\n",
       "Fine Lines and Wrinkles,Dark Circles,Eye Bags    16\n",
       "Dark Circles,Eye Bags,                           12\n",
       "Dark Circles,,                                   11\n",
       "Fine Lines and Wrinkles,Dark Circles,             9\n",
       "Dark Circles,Dark Circles,Eye Bags                8\n",
       "Dark Circles,Eye Bags,Dryness                     7\n",
       "Dark Circles,Eye Bags,Dark Circles                6\n",
       "Dryness,Dark Circles,                             3\n",
       "Dark Circles,Dryness,                             3\n",
       "Fine Lines and Wrinkles,Dryness,                  3\n",
       "Fine Lines and Wrinkles,,                         3\n",
       "Dryness,,                                         2\n",
       "Dryness,Eye Bags,Dark Circles                     2\n",
       "Fine Lines and Wrinkles,Dark Circles,Dryness      2\n",
       "Lightening,Dark Circles,Eye Bags                  2\n",
       "Fine Lines and Wrinkles,Dryness,Eye Bags          1\n",
       "Dark Circles,Dark Circles,                        1\n",
       "Dark Circles,Dryness,Eye Bags                     1\n",
       "Lightening,,                                      1\n",
       "Lightening,Dark Circles,Dryness                   1\n",
       "Dryness,Eye Bags,                                 1\n",
       "Lightening,Dryness,                               1\n",
       "Name: count, dtype: int64"
      ]
     },
     "execution_count": 12,
     "metadata": {},
     "output_type": "execute_result"
    }
   ],
   "source": [
    "df2[df2['label'] ==  'eye-cream']['concern'].value_counts()"
   ]
  },
  {
   "cell_type": "code",
   "execution_count": 13,
   "id": "178ef177",
   "metadata": {},
   "outputs": [
    {
     "data": {
      "text/plain": [
       "Series([], Name: count, dtype: int64)"
      ]
     },
     "execution_count": 13,
     "metadata": {},
     "output_type": "execute_result"
    }
   ],
   "source": [
    "df2['concern'] = df2['concern'].str.lower()\n",
    "# df2[df2['label'] == 'face-moisturisers']['concern'].value_counts()\n",
    "# df2[df2['label'] == 'mask-and-peel']['concern'].value_counts()\n",
    "df2[df2['label'] == 'sunscreen']['concern'].value_counts()"
   ]
  },
  {
   "cell_type": "code",
   "execution_count": 14,
   "id": "4c126e6d",
   "metadata": {},
   "outputs": [
    {
     "name": "stderr",
     "output_type": "stream",
     "text": [
      "C:\\Users\\Akshaya\\AppData\\Local\\Temp\\ipykernel_8352\\49380362.py:6: SettingWithCopyWarning: \n",
      "A value is trying to be set on a copy of a slice from a DataFrame\n",
      "\n",
      "See the caveats in the documentation: https://pandas.pydata.org/pandas-docs/stable/user_guide/indexing.html#returning-a-view-versus-a-copy\n",
      "  df2.iloc[i]['concern'] = top_concerns[label]\n"
     ]
    },
    {
     "name": "stdout",
     "output_type": "stream",
     "text": [
      "<class 'pandas.core.frame.DataFrame'>\n",
      "Index: 967 entries, 0 to 966\n",
      "Data columns (total 7 columns):\n",
      " #   Column     Non-Null Count  Dtype \n",
      "---  ------     --------------  ----- \n",
      " 0   label      967 non-null    object\n",
      " 1   url        967 non-null    object\n",
      " 2   brand      967 non-null    object\n",
      " 3   name       967 non-null    object\n",
      " 4   price      967 non-null    object\n",
      " 5   skin type  967 non-null    object\n",
      " 6   concern    939 non-null    object\n",
      "dtypes: object(7)\n",
      "memory usage: 60.4+ KB\n"
     ]
    }
   ],
   "source": [
    "top_concerns = {'face-moisturisers':'general care', 'mask-and-peel':'daily use', 'cleanser':'general care', 'eye-cream':'fine lines,wrinkles,dark circles,eye bags' }\n",
    "entries = len(df2)\n",
    "for i in range(entries):\n",
    "    label = df2.iloc[i]['label']\n",
    "    if pd.isnull(df2.iloc[i]['concern']):\n",
    "        df2.iloc[i]['concern'] = top_concerns[label]\n",
    "df2.info()\n"
   ]
  },
  {
   "cell_type": "code",
   "execution_count": 15,
   "id": "5085918c",
   "metadata": {},
   "outputs": [],
   "source": [
    "# df2.to_csv('general_skincare.csv')"
   ]
  },
  {
   "cell_type": "code",
   "execution_count": 16,
   "id": "d0f10cab",
   "metadata": {},
   "outputs": [
    {
     "data": {
      "text/html": [
       "<div>\n",
       "<style scoped>\n",
       "    .dataframe tbody tr th:only-of-type {\n",
       "        vertical-align: middle;\n",
       "    }\n",
       "\n",
       "    .dataframe tbody tr th {\n",
       "        vertical-align: top;\n",
       "    }\n",
       "\n",
       "    .dataframe thead th {\n",
       "        text-align: right;\n",
       "    }\n",
       "</style>\n",
       "<table border=\"1\" class=\"dataframe\">\n",
       "  <thead>\n",
       "    <tr style=\"text-align: right;\">\n",
       "      <th></th>\n",
       "      <th>label</th>\n",
       "      <th>url</th>\n",
       "      <th>brand</th>\n",
       "      <th>name</th>\n",
       "      <th>price</th>\n",
       "      <th>skin type</th>\n",
       "      <th>concern</th>\n",
       "    </tr>\n",
       "  </thead>\n",
       "  <tbody>\n",
       "    <tr>\n",
       "      <th>0</th>\n",
       "      <td>face-moisturisers</td>\n",
       "      <td>https://www.myntra.com/face-moisturisers/lakme...</td>\n",
       "      <td>lakme</td>\n",
       "      <td>absolute perfect radiance skin lightening day ...</td>\n",
       "      <td>₹ 79</td>\n",
       "      <td>all</td>\n",
       "      <td>general care,,</td>\n",
       "    </tr>\n",
       "    <tr>\n",
       "      <th>1</th>\n",
       "      <td>face-moisturisers</td>\n",
       "      <td>https://www.myntra.com/face-moisturisers/bioti...</td>\n",
       "      <td>biotique</td>\n",
       "      <td>bio morning nectar flawless sustainable skin m...</td>\n",
       "      <td>₹ 165</td>\n",
       "      <td>all</td>\n",
       "      <td>uneven skin tone,hydration,dark spots</td>\n",
       "    </tr>\n",
       "    <tr>\n",
       "      <th>2</th>\n",
       "      <td>face-moisturisers</td>\n",
       "      <td>https://www.myntra.com/face-moisturisers/nivea...</td>\n",
       "      <td>nivea</td>\n",
       "      <td>unisex aloe hydration skin cream 100 ml</td>\n",
       "      <td>₹ 92</td>\n",
       "      <td>all</td>\n",
       "      <td>dull skin,dryness,general care</td>\n",
       "    </tr>\n",
       "    <tr>\n",
       "      <th>3</th>\n",
       "      <td>face-moisturisers</td>\n",
       "      <td>https://www.myntra.com/face-moisturisers/vi-jo...</td>\n",
       "      <td>vi-john</td>\n",
       "      <td>women set of 5 saffron fairness cream advanced</td>\n",
       "      <td>₹ 187</td>\n",
       "      <td>all</td>\n",
       "      <td>softening,smoothening,softening,smoothening,su...</td>\n",
       "    </tr>\n",
       "    <tr>\n",
       "      <th>4</th>\n",
       "      <td>face-moisturisers</td>\n",
       "      <td>https://www.myntra.com/face-moisturisers/lakme...</td>\n",
       "      <td>lakme</td>\n",
       "      <td>peach milk soft creme 150g</td>\n",
       "      <td>₹ 192</td>\n",
       "      <td>all</td>\n",
       "      <td>general care,,</td>\n",
       "    </tr>\n",
       "    <tr>\n",
       "      <th>...</th>\n",
       "      <td>...</td>\n",
       "      <td>...</td>\n",
       "      <td>...</td>\n",
       "      <td>...</td>\n",
       "      <td>...</td>\n",
       "      <td>...</td>\n",
       "      <td>...</td>\n",
       "    </tr>\n",
       "    <tr>\n",
       "      <th>962</th>\n",
       "      <td>eye-cream</td>\n",
       "      <td>https://www.myntra.com/eye-cream/skinkraft/ski...</td>\n",
       "      <td>skinkraft</td>\n",
       "      <td>vitamin c+e under eye gel for pigmented under ...</td>\n",
       "      <td>₹ 449</td>\n",
       "      <td>all</td>\n",
       "      <td>dark circles,,</td>\n",
       "    </tr>\n",
       "    <tr>\n",
       "      <th>963</th>\n",
       "      <td>eye-cream</td>\n",
       "      <td>https://www.myntra.com/eye-cream/casmara/casma...</td>\n",
       "      <td>casmara</td>\n",
       "      <td>eye-cream 15 ml</td>\n",
       "      <td>₹ 2200</td>\n",
       "      <td>all</td>\n",
       "      <td>fine lines,wrinkles,dark circles,</td>\n",
       "    </tr>\n",
       "    <tr>\n",
       "      <th>964</th>\n",
       "      <td>eye-cream</td>\n",
       "      <td>https://www.myntra.com/eye-cream/myglamm/mygla...</td>\n",
       "      <td>myglamm</td>\n",
       "      <td>white youthfull hydrating eye cream with water...</td>\n",
       "      <td>₹ 716</td>\n",
       "      <td>all</td>\n",
       "      <td>dark circles,dark circles,eye bags</td>\n",
       "    </tr>\n",
       "    <tr>\n",
       "      <th>965</th>\n",
       "      <td>eye-cream</td>\n",
       "      <td>https://www.myntra.com/eye-cream/makeup-revolu...</td>\n",
       "      <td>makeup revolution london</td>\n",
       "      <td>hydro bank hydrating &amp; cooling eye balm</td>\n",
       "      <td>₹ 1050</td>\n",
       "      <td>all</td>\n",
       "      <td>NaN</td>\n",
       "    </tr>\n",
       "    <tr>\n",
       "      <th>966</th>\n",
       "      <td>eye-cream</td>\n",
       "      <td>https://www.myntra.com/eye-cream/yves-rocher/y...</td>\n",
       "      <td>yves rocher</td>\n",
       "      <td>white botanical exceptional youth sustainable ...</td>\n",
       "      <td>₹ 1035</td>\n",
       "      <td>all</td>\n",
       "      <td>dark circles,eye bags,dryness</td>\n",
       "    </tr>\n",
       "  </tbody>\n",
       "</table>\n",
       "<p>967 rows × 7 columns</p>\n",
       "</div>"
      ],
      "text/plain": [
       "                 label                                                url  \\\n",
       "0    face-moisturisers  https://www.myntra.com/face-moisturisers/lakme...   \n",
       "1    face-moisturisers  https://www.myntra.com/face-moisturisers/bioti...   \n",
       "2    face-moisturisers  https://www.myntra.com/face-moisturisers/nivea...   \n",
       "3    face-moisturisers  https://www.myntra.com/face-moisturisers/vi-jo...   \n",
       "4    face-moisturisers  https://www.myntra.com/face-moisturisers/lakme...   \n",
       "..                 ...                                                ...   \n",
       "962          eye-cream  https://www.myntra.com/eye-cream/skinkraft/ski...   \n",
       "963          eye-cream  https://www.myntra.com/eye-cream/casmara/casma...   \n",
       "964          eye-cream  https://www.myntra.com/eye-cream/myglamm/mygla...   \n",
       "965          eye-cream  https://www.myntra.com/eye-cream/makeup-revolu...   \n",
       "966          eye-cream  https://www.myntra.com/eye-cream/yves-rocher/y...   \n",
       "\n",
       "                        brand  \\\n",
       "0                       lakme   \n",
       "1                    biotique   \n",
       "2                       nivea   \n",
       "3                     vi-john   \n",
       "4                       lakme   \n",
       "..                        ...   \n",
       "962                 skinkraft   \n",
       "963                   casmara   \n",
       "964                   myglamm   \n",
       "965  makeup revolution london   \n",
       "966               yves rocher   \n",
       "\n",
       "                                                  name   price skin type  \\\n",
       "0    absolute perfect radiance skin lightening day ...    ₹ 79       all   \n",
       "1    bio morning nectar flawless sustainable skin m...   ₹ 165       all   \n",
       "2              unisex aloe hydration skin cream 100 ml    ₹ 92       all   \n",
       "3       women set of 5 saffron fairness cream advanced   ₹ 187       all   \n",
       "4                           peach milk soft creme 150g   ₹ 192       all   \n",
       "..                                                 ...     ...       ...   \n",
       "962  vitamin c+e under eye gel for pigmented under ...   ₹ 449       all   \n",
       "963                                    eye-cream 15 ml  ₹ 2200       all   \n",
       "964  white youthfull hydrating eye cream with water...   ₹ 716       all   \n",
       "965            hydro bank hydrating & cooling eye balm  ₹ 1050       all   \n",
       "966  white botanical exceptional youth sustainable ...  ₹ 1035       all   \n",
       "\n",
       "                                               concern  \n",
       "0                                       general care,,  \n",
       "1                uneven skin tone,hydration,dark spots  \n",
       "2                       dull skin,dryness,general care  \n",
       "3    softening,smoothening,softening,smoothening,su...  \n",
       "4                                       general care,,  \n",
       "..                                                 ...  \n",
       "962                                     dark circles,,  \n",
       "963                  fine lines,wrinkles,dark circles,  \n",
       "964                 dark circles,dark circles,eye bags  \n",
       "965                                                NaN  \n",
       "966                      dark circles,eye bags,dryness  \n",
       "\n",
       "[967 rows x 7 columns]"
      ]
     },
     "execution_count": 16,
     "metadata": {},
     "output_type": "execute_result"
    }
   ],
   "source": [
    "df2['brand'] = df2['brand'].str.lower()\n",
    "df2['name'] = df2['name'].str.lower()\n",
    "df2['skin type'] = df2['skin type'].str.lower()\n",
    "df2['concern'] = df2['concern'].str.replace(' and ', ',').str.replace(' or ', ',')\n",
    "df2"
   ]
  },
  {
   "cell_type": "code",
   "execution_count": 17,
   "id": "4f4137f8",
   "metadata": {},
   "outputs": [
    {
     "ename": "AttributeError",
     "evalue": "'float' object has no attribute 'split'",
     "output_type": "error",
     "traceback": [
      "\u001b[1;31m---------------------------------------------------------------------------\u001b[0m",
      "\u001b[1;31mAttributeError\u001b[0m                            Traceback (most recent call last)",
      "Cell \u001b[1;32mIn[17], line 17\u001b[0m\n\u001b[0;32m     15\u001b[0m concerns \u001b[38;5;241m=\u001b[39m {}\n\u001b[0;32m     16\u001b[0m \u001b[38;5;28;01mfor\u001b[39;00m i \u001b[38;5;129;01min\u001b[39;00m \u001b[38;5;28mrange\u001b[39m(entries):\n\u001b[1;32m---> 17\u001b[0m     concern_elements(df2\u001b[38;5;241m.\u001b[39miloc[i][\u001b[38;5;124m'\u001b[39m\u001b[38;5;124mconcern\u001b[39m\u001b[38;5;124m'\u001b[39m])\n",
      "Cell \u001b[1;32mIn[17], line 2\u001b[0m, in \u001b[0;36mconcern_elements\u001b[1;34m(comma_sep_concerns)\u001b[0m\n\u001b[0;32m      1\u001b[0m \u001b[38;5;28;01mdef\u001b[39;00m \u001b[38;5;21mconcern_elements\u001b[39m(comma_sep_concerns):\n\u001b[1;32m----> 2\u001b[0m     words \u001b[38;5;241m=\u001b[39m comma_sep_concerns\u001b[38;5;241m.\u001b[39msplit(\u001b[38;5;124m'\u001b[39m\u001b[38;5;124m,\u001b[39m\u001b[38;5;124m'\u001b[39m)\n\u001b[0;32m      3\u001b[0m     \u001b[38;5;28;01mfor\u001b[39;00m w \u001b[38;5;129;01min\u001b[39;00m words:\n\u001b[0;32m      4\u001b[0m         \u001b[38;5;28;01mif\u001b[39;00m w \u001b[38;5;241m!=\u001b[39m \u001b[38;5;124m'\u001b[39m\u001b[38;5;124m'\u001b[39m:\n",
      "\u001b[1;31mAttributeError\u001b[0m: 'float' object has no attribute 'split'"
     ]
    }
   ],
   "source": [
    "def concern_elements(comma_sep_concerns):\n",
    "    words = comma_sep_concerns.split(',')\n",
    "    for w in words:\n",
    "        if w != '':\n",
    "            temp = w.rstrip()\n",
    "            if temp in concerns:\n",
    "                concerns[temp] += 1\n",
    "            else:\n",
    "                concerns[temp] = 1\n",
    "\n",
    "\n",
    "            \n",
    "# features\n",
    "list(df2['skin type'].unique())\n",
    "concerns = {}\n",
    "for i in range(entries):\n",
    "    concern_elements(df2.iloc[i]['concern'])"
   ]
  },
  {
   "cell_type": "code",
   "execution_count": 18,
   "id": "b5f4f788",
   "metadata": {},
   "outputs": [
    {
     "name": "stdout",
     "output_type": "stream",
     "text": [
      "[('irregular textures', 1), ('skin inflammation', 1), ('blackheads', 2), ('skin sagging', 2), ('sun protection', 2), ('whiteheads', 2), ('acne', 3), ('blemishes', 3), ('excess oil', 3), ('deep nourishment', 4), ('dark spots', 5), ('fine lines', 5), ('wrinkles', 5), ('dull skin', 6), ('uneven skin tone', 6), ('pigmentation', 7), ('smoothening', 7), ('softening', 7), ('dryness', 9), ('hydration', 9), ('general care', 12)]\n"
     ]
    }
   ],
   "source": [
    "print(sorted(concerns.items(), key =\n",
    "             lambda kv:(kv[1], kv[0])))   "
   ]
  },
  {
   "cell_type": "code",
   "execution_count": 19,
   "id": "03d3d43c",
   "metadata": {},
   "outputs": [
    {
     "ename": "KeyError",
     "evalue": "'anti acne scarring'",
     "output_type": "error",
     "traceback": [
      "\u001b[1;31m---------------------------------------------------------------------------\u001b[0m",
      "\u001b[1;31mKeyError\u001b[0m                                  Traceback (most recent call last)",
      "Cell \u001b[1;32mIn[19], line 1\u001b[0m\n\u001b[1;32m----> 1\u001b[0m concerns\u001b[38;5;241m.\u001b[39mpop(\u001b[38;5;124m'\u001b[39m\u001b[38;5;124manti acne scarring\u001b[39m\u001b[38;5;124m'\u001b[39m)\n\u001b[0;32m      2\u001b[0m concerns\u001b[38;5;241m.\u001b[39mpop(\u001b[38;5;124m'\u001b[39m\u001b[38;5;124manti-ageing\u001b[39m\u001b[38;5;124m'\u001b[39m)\n\u001b[0;32m      3\u001b[0m concerns\u001b[38;5;241m.\u001b[39mpop(\u001b[38;5;124m'\u001b[39m\u001b[38;5;124mskin tightening\u001b[39m\u001b[38;5;124m'\u001b[39m)\n",
      "\u001b[1;31mKeyError\u001b[0m: 'anti acne scarring'"
     ]
    }
   ],
   "source": [
    "concerns.pop('anti acne scarring')\n",
    "concerns.pop('anti-ageing')\n",
    "concerns.pop('skin tightening')\n",
    "concerns.pop('blackheads removal')\n",
    "concerns.pop('irregular textures')\n",
    "concerns.pop('skin inflammation')\n",
    "concerns.pop('oil control')\n",
    "concerns.pop('redness')\n",
    "concerns.pop('oily skin')\n",
    "concerns.pop('skin sagging')\n",
    "concerns.pop('sun protection')\n",
    "concerns.pop('lightening')\n",
    "concerns.pop('tan removal')\n",
    "concerns.pop('excess oil')"
   ]
  },
  {
   "cell_type": "code",
   "execution_count": 20,
   "id": "afac0e6a",
   "metadata": {},
   "outputs": [],
   "source": [
    "features = list(df2['skin type'].unique()) + list(concerns)\n",
    "(features)\n",
    "\n",
    "features = ['normal','dry','oily','combination', 'acne','sensitive','fine lines', 'wrinkles', 'redness', 'dull', 'pore', 'pigmentation', 'blackheads','whiteheads', 'blemishes', 'dark circles', 'eye bags', 'dark spots']"
   ]
  },
  {
   "cell_type": "code",
   "execution_count": 21,
   "id": "7f37c3fe",
   "metadata": {},
   "outputs": [
    {
     "name": "stdout",
     "output_type": "stream",
     "text": [
      "<class 'pandas.core.frame.DataFrame'>\n",
      "Index: 967 entries, 0 to 966\n",
      "Data columns (total 7 columns):\n",
      " #   Column     Non-Null Count  Dtype \n",
      "---  ------     --------------  ----- \n",
      " 0   label      967 non-null    object\n",
      " 1   url        967 non-null    object\n",
      " 2   brand      967 non-null    object\n",
      " 3   name       967 non-null    object\n",
      " 4   price      967 non-null    object\n",
      " 5   skin type  967 non-null    object\n",
      " 6   concern    939 non-null    object\n",
      "dtypes: object(7)\n",
      "memory usage: 60.4+ KB\n"
     ]
    }
   ],
   "source": [
    "df2.info()"
   ]
  },
  {
   "cell_type": "code",
   "execution_count": 22,
   "id": "74248bb4",
   "metadata": {},
   "outputs": [
    {
     "data": {
      "text/plain": [
       "18"
      ]
     },
     "execution_count": 22,
     "metadata": {},
     "output_type": "execute_result"
    }
   ],
   "source": [
    "len(features)"
   ]
  },
  {
   "cell_type": "code",
   "execution_count": 23,
   "id": "fc07cc1c",
   "metadata": {},
   "outputs": [
    {
     "ename": "TypeError",
     "evalue": "argument of type 'float' is not iterable",
     "output_type": "error",
     "traceback": [
      "\u001b[1;31m---------------------------------------------------------------------------\u001b[0m",
      "\u001b[1;31mTypeError\u001b[0m                                 Traceback (most recent call last)",
      "Cell \u001b[1;32mIn[23], line 22\u001b[0m\n\u001b[0;32m     20\u001b[0m \u001b[38;5;28;01mfor\u001b[39;00m j \u001b[38;5;129;01min\u001b[39;00m \u001b[38;5;28mrange\u001b[39m(\u001b[38;5;241m5\u001b[39m, \u001b[38;5;28mlen\u001b[39m(features)):\n\u001b[0;32m     21\u001b[0m     feature \u001b[38;5;241m=\u001b[39m features[j]\n\u001b[1;32m---> 22\u001b[0m     \u001b[38;5;28;01mif\u001b[39;00m feature \u001b[38;5;129;01min\u001b[39;00m df2\u001b[38;5;241m.\u001b[39miloc[i][\u001b[38;5;124m'\u001b[39m\u001b[38;5;124mconcern\u001b[39m\u001b[38;5;124m'\u001b[39m]:\n\u001b[0;32m     23\u001b[0m         one_hot_encodings[i][j] \u001b[38;5;241m=\u001b[39m \u001b[38;5;241m1\u001b[39m\n",
      "\u001b[1;31mTypeError\u001b[0m: argument of type 'float' is not iterable"
     ]
    }
   ],
   "source": [
    "def search_concern(target, i):\n",
    "    if target in df2.iloc[i]['concern']:\n",
    "        return True\n",
    "    return False\n",
    "\n",
    "one_hot_encodings = np.zeros([entries, len(features)])\n",
    "\n",
    "#skin types first\n",
    "for i in range(entries):\n",
    "    for j in range(5):\n",
    "        target = features[j]\n",
    "        sk_type = df2.iloc[i]['skin type']\n",
    "        if sk_type == 'all':\n",
    "            one_hot_encodings[i][0:5] = 1\n",
    "        elif target == sk_type:\n",
    "            one_hot_encodings[i][j] = 1\n",
    "\n",
    "#other features\n",
    "for i in range(entries):\n",
    "    for j in range(5, len(features)):\n",
    "        feature = features[j]\n",
    "        if feature in df2.iloc[i]['concern']:\n",
    "            one_hot_encodings[i][j] = 1\n",
    "            \n",
    "    "
   ]
  },
  {
   "cell_type": "code",
   "execution_count": 24,
   "id": "549d4e47",
   "metadata": {},
   "outputs": [],
   "source": [
    "x = one_hot_encodings[456]"
   ]
  },
  {
   "cell_type": "code",
   "execution_count": 25,
   "id": "d367fe8c",
   "metadata": {},
   "outputs": [],
   "source": [
    "from sklearn.neighbors import NearestNeighbors\n",
    "nbrs = NearestNeighbors(n_neighbors=6, algorithm='ball_tree').fit(one_hot_encodings)\n",
    "distances, indices = nbrs.kneighbors(one_hot_encodings)\n",
    "\n",
    "# get_index_from_name('peach milk soft creme 150g')"
   ]
  },
  {
   "cell_type": "code",
   "execution_count": 26,
   "id": "99f0905d",
   "metadata": {},
   "outputs": [],
   "source": [
    "# finding the closes data points\n",
    "def recs_nn(query=None,id=None):\n",
    "    if id:\n",
    "        for id in indices[id][1:]:\n",
    "            print(anime.ix[id][\"name\"])\n",
    "    if query:\n",
    "        found_id = get_index_from_name(query)\n",
    "        for id in indices[found_id][1:]:\n",
    "            print(index2prod(id))"
   ]
  },
  {
   "cell_type": "code",
   "execution_count": 27,
   "id": "292e56da",
   "metadata": {},
   "outputs": [],
   "source": [
    "# utility functions\n",
    "def name2index(name):\n",
    "    return df2[df2[\"name\"]==name].index.tolist()[0]\n",
    "\n",
    "def index2prod(index):\n",
    "    return df2.iloc[index]"
   ]
  },
  {
   "cell_type": "code",
   "execution_count": 28,
   "id": "a6a2d987",
   "metadata": {},
   "outputs": [],
   "source": [
    "def wrap(info_arr):\n",
    "    result = {}\n",
    "#     print(info_arr)\n",
    "    result['brand'] = info_arr[0]\n",
    "    result['name'] = info_arr[1]\n",
    "    result['price'] = info_arr[2]\n",
    "    result['url'] = info_arr[3]\n",
    "    result['skin type'] = info_arr[4]\n",
    "    result['concern'] = str(info_arr[5]).split(',')\n",
    "    return result\n",
    "\n",
    "# recommend top 10 similar items from a category\n",
    "def recs_cs(vector = None, name = None, label = None, count = 5):\n",
    "    products = []\n",
    "    if name:\n",
    "        idx = name2index(name)\n",
    "        fv = one_hot_encodings[idx]\n",
    "    elif vector:\n",
    "        fv = vector\n",
    "    cs_values = cosine_similarity(np.array([fv, ]), one_hot_encodings)\n",
    "    df2['cs'] = cs_values[0]\n",
    "    \n",
    "    if label:\n",
    "        dff = df2[df2['label'] == label]\n",
    "    else:\n",
    "        dff = df2\n",
    "    \n",
    "    if name:\n",
    "        dff = dff[dff['name'] != name]\n",
    "    recommendations = dff.sort_values('cs', ascending=False).head(count)\n",
    "    #   print(f\"Top {count} matching {label} items\")\n",
    "    data = recommendations[['brand', 'name', 'price', 'url','skin type','concern']].to_dict('split')['data']\n",
    "    for element in data:\n",
    "        products.append(wrap(element))\n",
    "    return products"
   ]
  },
  {
   "cell_type": "code",
   "execution_count": 29,
   "id": "26f3aa6e",
   "metadata": {},
   "outputs": [],
   "source": [
    "# overall recommendation\n",
    "def recs_essentials(vector = None, name = None):\n",
    "#     print(\"ESSENTIALS:\")\n",
    "    response = {}\n",
    "    for label in LABELS:\n",
    "#         print(f\"{label}:\")\n",
    "        if name: \n",
    "            r = recs_cs(None, name, label)\n",
    "        elif vector:\n",
    "            r = recs_cs(vector, None, label)\n",
    "        response[label] = r\n",
    "    return response"
   ]
  },
  {
   "cell_type": "code",
   "execution_count": 30,
   "id": "0056b958",
   "metadata": {},
   "outputs": [
    {
     "data": {
      "text/plain": [
       "{'face-moisturisers': [{'brand': 'lotus herbals',\n",
       "   'name': 'sustainable professional phyto-rx whitening brightening night creme 50g',\n",
       "   'price': '₹ 419',\n",
       "   'url': 'https://www.myntra.com/face-moisturisers/lotus-herbals/lotus-herbals-sustainable-professional-phyto-rx-whitening--brightening-night-creme-50g/10365395/buy',\n",
       "   'skin type': 'all',\n",
       "   'concern': ['dull skin', '', '']},\n",
       "  {'brand': 'nivea',\n",
       "   'name': 'unisex aloe hydration skin cream 100 ml',\n",
       "   'price': '₹ 92',\n",
       "   'url': 'https://www.myntra.com/face-moisturisers/nivea/nivea-unisex-aloe-hydration-skin-cream-100-ml/8529167/buy',\n",
       "   'skin type': 'all',\n",
       "   'concern': ['dull skin', 'dryness', 'general care']},\n",
       "  {'brand': 'the face shop',\n",
       "   'name': 'unisex rice & ceramide moisturizing emulsion 150 ml',\n",
       "   'price': '₹ 712',\n",
       "   'url': 'https://www.myntra.com/face-moisturisers/the-face-shop/the-face-shop-unisex-rice--ceramide-moisturizing-emulsion-150-ml/9113689/buy',\n",
       "   'skin type': 'all',\n",
       "   'concern': ['dryness', 'dull skin', 'deep nourishment']},\n",
       "  {'brand': 'biotique',\n",
       "   'name': 'bio coconut whitening & brightening sustainable cream 50g',\n",
       "   'price': '₹ 117',\n",
       "   'url': 'https://www.myntra.com/face-moisturisers/biotique/biotique-bio-coconut-whitening--brightening-sustainable-cream-50g/1661415/buy',\n",
       "   'skin type': 'all',\n",
       "   'concern': ['uneven skin tone', 'dull skin', 'hydration']},\n",
       "  {'brand': 'nivea',\n",
       "   'name': 'men creme for face - body - hands 75 ml',\n",
       "   'price': '₹ 112',\n",
       "   'url': 'https://www.myntra.com/face-moisturisers/nivea/nivea-men-creme-for-face---body---hands-75-ml/2273979/buy',\n",
       "   'skin type': 'all',\n",
       "   'concern': ['general care', 'dull skin', 'dryness']}],\n",
       " 'cleanser': [{'brand': 'lakme',\n",
       "   'name': 'absolute perfect radiance skin lightening face wash - 50 g',\n",
       "   'price': '₹ 112',\n",
       "   'url': 'https://www.myntra.com/face-wash-and-cleanser/lakme/lakme-absolute-perfect-radiance-skin-lightening-face-wash---50-g/4384875/buy',\n",
       "   'skin type': 'all',\n",
       "   'concern': ['lightening', 'dark spots', 'acne', 'blemishes']},\n",
       "  {'brand': 'garnier',\n",
       "   'name': 'set of bright complete brightening facewash & vitamin c serum cream',\n",
       "   'price': '₹ 329',\n",
       "   'url': 'https://www.myntra.com/face-wash-and-cleanser/garnier/garnier-set-of-bright-complete-brightening-facewash--vitamin-c-serum-cream/14348048/buy',\n",
       "   'skin type': 'all',\n",
       "   'concern': ['general care', 'daily use', '']},\n",
       "  {'brand': 'biotique',\n",
       "   'name': 'sustainable set of walnut purifying scrub & face wash',\n",
       "   'price': '₹ 247',\n",
       "   'url': 'https://www.myntra.com/face-wash-and-cleanser/biotique/biotique-sustainable-set-of-walnut-purifying-scrub--face-wash/15060722/buy',\n",
       "   'skin type': 'all',\n",
       "   'concern': ['dull skin', 'uneven skin tone', 'daily use']},\n",
       "  {'brand': 'phy',\n",
       "   'name': 'pollution protect face + beard wash face wash-120ml',\n",
       "   'price': '₹ 375',\n",
       "   'url': 'https://www.myntra.com/face-wash-and-cleanser/phy/phy-pollution-protect-face--beard-wash-face-wash-120ml/15210958/buy',\n",
       "   'skin type': 'all',\n",
       "   'concern': ['anti-pollution', 'daily use', 'hydration']},\n",
       "  {'brand': 'bewakoof cosmos',\n",
       "   'name': 'set of 2 oat extract zinc face scrub & green tea copper face wash',\n",
       "   'price': '₹ 349',\n",
       "   'url': 'https://www.myntra.com/face-wash-and-cleanser/bewakoof-cosmos/bewakoof-cosmos-set-of-2-oat-extract-zinc-face-scrub--green-tea-copper-face-wash/15570550/buy',\n",
       "   'skin type': 'all',\n",
       "   'concern': ['acne', 'blemishes', 'acne', 'blemishes', '']}],\n",
       " 'mask-and-peel': [{'brand': 'garnier',\n",
       "   'name': 'women hydra bomb green tea serum mask',\n",
       "   'price': '₹ 58',\n",
       "   'url': 'https://www.myntra.com/mask-and-peel/garnier/garnier-women-hydra-bomb-green-tea-serum-mask/8119103/buy',\n",
       "   'skin type': 'all',\n",
       "   'concern': ['dull skin', 'hydration', 'daily use']},\n",
       "  {'brand': 'glamveda',\n",
       "   'name': 'set of 2 hongcho anti acne korean sheet mask',\n",
       "   'price': '₹ 240',\n",
       "   'url': 'https://www.myntra.com/mask-and-peel/glamveda/glamveda-set-of-2-hongcho-anti-acne-korean-sheet-mask/14671526/buy',\n",
       "   'skin type': 'all',\n",
       "   'concern': ['acne', 'blemishes', '', '']},\n",
       "  {'brand': 'swiss beauty',\n",
       "   'name': 'brightening sleeping mask - 50 g',\n",
       "   'price': '₹ 296',\n",
       "   'url': 'https://www.myntra.com/mask-and-peel/swiss-beauty/swiss-beauty-brightening-sleeping-mask---50-g/15580136/buy',\n",
       "   'skin type': 'all',\n",
       "   'concern': ['nan']},\n",
       "  {'brand': 'good vibes',\n",
       "   'name': 'gold brightening peel off mask (50 gms)',\n",
       "   'price': '₹ 189',\n",
       "   'url': 'https://www.myntra.com/mask-and-peel/good-vibes/good-vibes-gold-brightening-peel-off-mask-50-gms/15210272/buy',\n",
       "   'skin type': 'all',\n",
       "   'concern': ['deep nourishment', 'blackheads', 'whiteheads', 'oil control']},\n",
       "  {'brand': 'kaya skin clinic',\n",
       "   'name': 'unisex red grape & niacinamide skin radiance night mask 50 g',\n",
       "   'price': '₹ 239',\n",
       "   'url': 'https://www.myntra.com/mask-and-peel/kaya-skin-clinic/kaya-skin-clinic-unisex-red-grape--niacinamide-skin-radiance-night-mask-50-g/12472786/buy',\n",
       "   'skin type': 'all',\n",
       "   'concern': ['oily skin', 'uneven skin tone', 'hydration']}],\n",
       " 'eye-cream': [{'brand': 'tac - the ayurveda co.',\n",
       "   'name': 'collagen boosting under eye gel creme 30g',\n",
       "   'price': '₹ 523',\n",
       "   'url': 'https://www.myntra.com/eye-cream/tac---the-ayurveda-co/tac---the-ayurveda-co-collagen-boosting-under-eye-gel-creme-30g/15077364/buy',\n",
       "   'skin type': 'all',\n",
       "   'concern': ['fine lines', 'wrinkles', 'dark circles', 'eye bags']},\n",
       "  {'brand': 'dot & key',\n",
       "   'name': 'dot & key puffiness & shadow minimizing eye sleeping mask 20ml',\n",
       "   'price': '₹ 985',\n",
       "   'url': 'https://www.myntra.com/eye-cream/dot--key/dot--key-puffiness--shadow-minimizing-eye-sleeping-mask-20ml/11408620/buy',\n",
       "   'skin type': 'all',\n",
       "   'concern': ['dark circles', 'eye bags', 'dryness']},\n",
       "  {'brand': 'biotique',\n",
       "   'name': 'unisex bio sustainable set of anti-fatigue eye gel & tan-removal scrub',\n",
       "   'price': '₹ 398',\n",
       "   'url': 'https://www.myntra.com/eye-cream/biotique/biotique-unisex-bio-sustainable-set-of-anti-fatigue-eye-gel--tan-removal-scrub/13538488/buy',\n",
       "   'skin type': 'all',\n",
       "   'concern': ['dark circles', 'eye bags', '']},\n",
       "  {'brand': 'beardo',\n",
       "   'name': 'men set of under eye gel & de-tan face wash',\n",
       "   'price': '₹ 531',\n",
       "   'url': 'https://www.myntra.com/eye-cream/beardo/beardo-men-set-of-under-eye-gel--de-tan-face-wash/13538742/buy',\n",
       "   'skin type': 'all',\n",
       "   'concern': ['fine lines', 'wrinkles', 'dark circles', 'eye bags']},\n",
       "  {'brand': 'pilgrim',\n",
       "   'name': 'unisex retinol under eye cream with hyaluronic acid for dark circles, wrinkles-',\n",
       "   'price': '₹ 400',\n",
       "   'url': 'https://www.myntra.com/eye-cream/pilgrim/pilgrim-unisex-retinol-under-eye-cream-with-hyaluronic-acid-for-dark-circles-wrinkles-/15973866/buy',\n",
       "   'skin type': 'all',\n",
       "   'concern': ['dark circles', 'eye bags', 'dryness']}]}"
      ]
     },
     "execution_count": 30,
     "metadata": {},
     "output_type": "execute_result"
    }
   ],
   "source": [
    "# features = ['normal','dry','oily','combination', 'acne','sensitive','fine lines', 'wrinkles', 'redness', 'dull', 'pore ', 'pigmentation', 'blackheads','whiteheads', 'blemishes', 'dark circles', 'eye bags', 'dark spots']\n",
    "x = [1,1,1,1,0,1,0,0,0,1,0,0,0,0,1,0,1,0]\n",
    "\n",
    "y = recs_essentials(x, None)\n",
    "y"
   ]
  },
  {
   "cell_type": "code",
   "execution_count": null,
   "id": "7af4e629",
   "metadata": {},
   "outputs": [],
   "source": []
  }
 ],
 "metadata": {
  "kernelspec": {
   "display_name": "Python 3 (ipykernel)",
   "language": "python",
   "name": "python3"
  },
  "language_info": {
   "codemirror_mode": {
    "name": "ipython",
    "version": 3
   },
   "file_extension": ".py",
   "mimetype": "text/x-python",
   "name": "python",
   "nbconvert_exporter": "python",
   "pygments_lexer": "ipython3",
   "version": "3.11.4"
  }
 },
 "nbformat": 4,
 "nbformat_minor": 5
}
